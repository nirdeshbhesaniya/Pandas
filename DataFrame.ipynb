{
 "cells": [
  {
   "cell_type": "markdown",
   "id": "410686e0",
   "metadata": {},
   "source": [
    "## DataFrame\n"
   ]
  },
  {
   "cell_type": "code",
   "execution_count": 2,
   "id": "8c7480ee",
   "metadata": {},
   "outputs": [
    {
     "name": "stdout",
     "output_type": "stream",
     "text": [
      "<class 'pandas.core.frame.DataFrame'>\n",
      "   0\n",
      "0  1\n",
      "1  2\n",
      "2  3\n",
      "3  4\n",
      "4  5\n",
      "5  6\n"
     ]
    }
   ],
   "source": [
    "import pandas as pd\n",
    "\n",
    "l=[1,2,3,4,5,6]\n",
    "\n",
    "var = pd.DataFrame(l)\n",
    "\n",
    "print(type(var))\n",
    "\n",
    "print(var)"
   ]
  },
  {
   "cell_type": "code",
   "execution_count": null,
   "id": "bea1f5dd",
   "metadata": {},
   "outputs": [
    {
     "name": "stdout",
     "output_type": "stream",
     "text": [
      "<class 'pandas.core.frame.DataFrame'>\n",
      "    a  s  d  1\n",
      "0   1  1  1  1\n",
      "1   2  2  2  2\n",
      "2   3  3  3  3\n",
      "3  14  4  4  4\n",
      "4   5  5  5  5\n",
      "14\n"
     ]
    }
   ],
   "source": [
    "d = {\"a\":[1,2,3,14,5],\"s\":[1,2,3,4,5],\"d\":[1,2,3,4,5],1:[1,2,3,4,5]}\n",
    "\n",
    "var1 = pd.DataFrame(d)\n",
    "# var1 = pd.DataFrame(d,columns=[\"a\",1],index=[\"a\",\"s\",\"d\",\"f\",\"g\"])\n",
    "\n",
    "print(type(var1))\n",
    "print(var1)\n",
    "\n",
    "print(var1[\"a\"][3])"
   ]
  },
  {
   "cell_type": "code",
   "execution_count": 16,
   "id": "a2c9f68e",
   "metadata": {},
   "outputs": [
    {
     "name": "stdout",
     "output_type": "stream",
     "text": [
      "<class 'pandas.core.frame.DataFrame'>\n",
      "    0   1   2   3   4\n",
      "0   1   2   3   4   5\n",
      "1  11  12  13  14  15\n"
     ]
    }
   ],
   "source": [
    "list_l = [[1,2,3,4,5],[11,12,13,14,15]]\n",
    "\n",
    "var2 = pd.DataFrame(list_l)\n",
    "\n",
    "print(type(var2))\n",
    "print(var2)\n"
   ]
  },
  {
   "cell_type": "code",
   "execution_count": 17,
   "id": "0fbf53b8",
   "metadata": {},
   "outputs": [
    {
     "name": "stdout",
     "output_type": "stream",
     "text": [
      "<class 'pandas.core.frame.DataFrame'>\n",
      "   s  r\n",
      "0  1  1\n",
      "1  2  2\n",
      "2  3  3\n",
      "3  4  4\n"
     ]
    }
   ],
   "source": [
    "sr = {\"s\":pd.Series([1,2,3,4]),\"r\":pd.Series([1,2,3,4])}\n",
    "\n",
    "var3 = pd.DataFrame(sr)\n",
    "print(type(var3))\n",
    "print(var3)"
   ]
  }
 ],
 "metadata": {
  "kernelspec": {
   "display_name": "Python 3",
   "language": "python",
   "name": "python3"
  },
  "language_info": {
   "codemirror_mode": {
    "name": "ipython",
    "version": 3
   },
   "file_extension": ".py",
   "mimetype": "text/x-python",
   "name": "python",
   "nbconvert_exporter": "python",
   "pygments_lexer": "ipython3",
   "version": "3.13.3"
  }
 },
 "nbformat": 4,
 "nbformat_minor": 5
}
